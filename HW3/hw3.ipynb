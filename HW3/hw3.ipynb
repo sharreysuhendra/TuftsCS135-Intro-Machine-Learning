{
 "cells": [
  {
   "cell_type": "markdown",
   "metadata": {},
   "source": [
    "## HW03 Code\n",
    "\n",
    "\n",
    "You will complete the following notebook, as described in the PDF for Homework 03 (included in the download with the starter code).  You will submit:\n",
    "1. This notebook file, along with your COLLABORATORS.txt file, to the Gradescope link for code.\n",
    "2. A PDF of this notebook and all of its output, once it is completed, to the Gradescope link for the PDF.\n",
    "\n",
    "\n",
    "Please report any questions to the [class Piazza page](piazza.com/tufts/summer2021/cs135).\n",
    "\n",
    "### Import required libraries."
   ]
  },
  {
   "cell_type": "code",
   "execution_count": 412,
   "metadata": {},
   "outputs": [],
   "source": [
    "import os\n",
    "import numpy as np\n",
    "import pandas as pd\n",
    "\n",
    "import warnings\n",
    "\n",
    "import sklearn.linear_model\n",
    "import sklearn.metrics\n",
    "import sklearn.calibration\n",
    "\n",
    "from matplotlib import pyplot as plt\n",
    "import seaborn as sns\n",
    "%matplotlib inline\n",
    "plt.style.use('seaborn') # pretty matplotlib plots"
   ]
  },
  {
   "cell_type": "markdown",
   "metadata": {},
   "source": [
    "### Function for later use\n",
    "This function will compute and return a confusion matrix on data, given probabilistic predictions, and a threshold to use when converting probabilities to \"firm\" predictions.\n",
    "\n",
    "***Don't change this function.***"
   ]
  },
  {
   "cell_type": "code",
   "execution_count": 413,
   "metadata": {},
   "outputs": [],
   "source": [
    "def calc_confusion_matrix_for_threshold(ytrue_N, yproba1_N, thresh=0.5):\n",
    "    ''' Compute the confusion matrix for a given probabilistic classifier and threshold\n",
    "    \n",
    "    Args\n",
    "    ----\n",
    "    ytrue_N : 1D array of floats\n",
    "        Each entry represents the binary value (0 or 1) of 'true' label of one example\n",
    "        One entry per example in current dataset\n",
    "    yproba1_N : 1D array of floats\n",
    "        Each entry represents a probability (between 0 and 1) that correct label is positive (1)\n",
    "        One entry per example in current dataset\n",
    "        Needs to be same size as ytrue_N\n",
    "    thresh : float\n",
    "        Scalar threshold for converting probabilities into hard decisions\n",
    "        Calls an example \"positive\" if yproba1 >= thresh\n",
    "        Default value reflects a majority-classification approach (class is the one that gets\n",
    "        highest probability)\n",
    "\n",
    "    Returns\n",
    "    -------\n",
    "    cm_df : Pandas DataFrame\n",
    "        Can be printed like print(cm_df) to easily display results\n",
    "    '''\n",
    "    cm = sklearn.metrics.confusion_matrix(ytrue_N, yproba1_N >= thresh)\n",
    "    cm_df = pd.DataFrame(data=cm, columns=[0, 1], index=[0, 1])\n",
    "    cm_df.columns.name = 'Predicted'\n",
    "    cm_df.index.name = 'True'\n",
    "    return cm_df"
   ]
  },
  {
   "cell_type": "markdown",
   "metadata": {},
   "source": [
    "## Cancer-Risk Screening\n",
    "\n",
    "### 1: Compute true/false positives/negatives.\n",
    "\n",
    "Complete the following code."
   ]
  },
  {
   "cell_type": "code",
   "execution_count": 414,
   "metadata": {},
   "outputs": [],
   "source": [
    "def calc_TP_TN_FP_FN(ytrue_N, yhat_N):\n",
    "    '''\n",
    "    \n",
    "    Args\n",
    "    ----\n",
    "    ytrue_N : 1D array of floats\n",
    "        Each entry represents the binary value (0 or 1) of 'true' label of one example\n",
    "        One entry per example in current dataset\n",
    "    yhat_N : 1D array of floats\n",
    "        Each entry represents a predicted binary value (either 0 or 1).\n",
    "        One entry per example in current dataset.\n",
    "        Needs to be same size as ytrue_N.\n",
    "\n",
    "    Returns\n",
    "    -------\n",
    "    TP : int\n",
    "        Number of true positives\n",
    "    TN : int\n",
    "        Number of true negatives\n",
    "    FP : int\n",
    "        Number of false positives\n",
    "    FN : int\n",
    "        Number of false negatives\n",
    "    '''\n",
    "    TP = 0.0\n",
    "    TN = 0.0\n",
    "    FP = 0.0\n",
    "    FN = 0.0\n",
    "    \n",
    "    for i in range(ytrue_N.size):\n",
    "        actual = ytrue_N[i]\n",
    "        predicted = yhat_N[i]\n",
    "        \n",
    "        if actual == predicted:\n",
    "            if actual == 0:\n",
    "                TN += 1\n",
    "            else:\n",
    "                TP += 1\n",
    "        else:\n",
    "            if actual == 0:\n",
    "                FP += 1\n",
    "            else:\n",
    "                FN += 1\n",
    "                \n",
    "    return TP, TN, FP, FN"
   ]
  },
  {
   "cell_type": "markdown",
   "metadata": {},
   "source": [
    "#### Testing code\n",
    "The following four calls to the function above test your results.  ***Don't modify this.***"
   ]
  },
  {
   "cell_type": "code",
   "execution_count": 415,
   "metadata": {},
   "outputs": [
    {
     "data": {
      "text/plain": [
       "(0.0, 0.0, 10.0, 0.0)"
      ]
     },
     "execution_count": 415,
     "metadata": {},
     "output_type": "execute_result"
    }
   ],
   "source": [
    "all0 = np.zeros(10)\n",
    "all1 = np.ones(10)\n",
    "calc_TP_TN_FP_FN(all0, all1)"
   ]
  },
  {
   "cell_type": "code",
   "execution_count": 416,
   "metadata": {},
   "outputs": [
    {
     "data": {
      "text/plain": [
       "(0.0, 0.0, 0.0, 10.0)"
      ]
     },
     "execution_count": 416,
     "metadata": {},
     "output_type": "execute_result"
    }
   ],
   "source": [
    "calc_TP_TN_FP_FN(all1, all0)"
   ]
  },
  {
   "cell_type": "code",
   "execution_count": 417,
   "metadata": {},
   "outputs": [
    {
     "data": {
      "text/plain": [
       "(10.0, 0.0, 0.0, 0.0)"
      ]
     },
     "execution_count": 417,
     "metadata": {},
     "output_type": "execute_result"
    }
   ],
   "source": [
    "calc_TP_TN_FP_FN(all1, all1)"
   ]
  },
  {
   "cell_type": "code",
   "execution_count": 418,
   "metadata": {},
   "outputs": [
    {
     "data": {
      "text/plain": [
       "(0.0, 10.0, 0.0, 0.0)"
      ]
     },
     "execution_count": 418,
     "metadata": {},
     "output_type": "execute_result"
    }
   ],
   "source": [
    "calc_TP_TN_FP_FN(all0, all0)"
   ]
  },
  {
   "cell_type": "markdown",
   "metadata": {},
   "source": [
    "### Load the dataset.\n",
    "\n",
    "The following should ***not*** be modified.  After it runs, the various arrays it creates will contain the 2- or 3-feature input datasets."
   ]
  },
  {
   "cell_type": "code",
   "execution_count": 419,
   "metadata": {},
   "outputs": [],
   "source": [
    "# Load the x-data and y-class arrays\n",
    "x_train = np.loadtxt('./data_cancer/x_train.csv', delimiter=',', skiprows=1)\n",
    "x_test = np.loadtxt('./data_cancer/x_test.csv', delimiter=',', skiprows=1)\n",
    "\n",
    "y_train = np.loadtxt('./data_cancer/y_train.csv', delimiter=',', skiprows=1)\n",
    "y_test = np.loadtxt('./data_cancer/y_test.csv', delimiter=',', skiprows=1)"
   ]
  },
  {
   "cell_type": "markdown",
   "metadata": {},
   "source": [
    "### 2: Compute the fraction of patients with cancer.\n",
    "\n",
    "Complete the following code.  Your solution needs to ***compute*** these values from the training and testing sets (i.e., don't simply hand-count and print the values)."
   ]
  },
  {
   "cell_type": "code",
   "execution_count": 420,
   "metadata": {},
   "outputs": [
    {
     "name": "stdout",
     "output_type": "stream",
     "text": [
      "Fraction of data that has_cancer on TRAIN: 0.140\n",
      "fraction of data that has_cancer on TEST : 0.139\n"
     ]
    }
   ],
   "source": [
    "print(\"Fraction of data that has_cancer on TRAIN: %.3f\" % (np.count_nonzero(y_train)/y_train.size))\n",
    "print(\"fraction of data that has_cancer on TEST : %.3f\" % (np.count_nonzero(y_test)/y_test.size))"
   ]
  },
  {
   "cell_type": "markdown",
   "metadata": {},
   "source": [
    "### 3: The predict-0-always baseline\n",
    "\n",
    "#### (a) Compute the accuracy of the always-0 classifier.\n",
    "\n",
    "Complete the code to compute and print the accuracy of the always-0 classifier on validation and test outputs."
   ]
  },
  {
   "cell_type": "code",
   "execution_count": 421,
   "metadata": {},
   "outputs": [
    {
     "name": "stdout",
     "output_type": "stream",
     "text": [
      "acc on TRAIN: 0.860\n",
      "acc on TEST: 0.861\n"
     ]
    }
   ],
   "source": [
    "print(\"acc on TRAIN: %.3f\" % sklearn.metrics.accuracy_score(y_train, np.zeros(y_train.size)))\n",
    "print(\"acc on TEST: %.3f\" % sklearn.metrics.accuracy_score(y_test, np.zeros(y_test.size)))"
   ]
  },
  {
   "cell_type": "markdown",
   "metadata": {},
   "source": [
    "#### (b) Print a confusion matrix for the always-0 classifier.\n",
    "\n",
    "Add code below to generate a confusion matrix for the always-0 classifier on the test set."
   ]
  },
  {
   "cell_type": "code",
   "execution_count": 422,
   "metadata": {},
   "outputs": [
    {
     "name": "stdout",
     "output_type": "stream",
     "text": [
      "Predicted    0  1\n",
      "True             \n",
      "0          155  0\n",
      "1           25  0\n"
     ]
    }
   ],
   "source": [
    "print(calc_confusion_matrix_for_threshold(y_test, np.zeros(y_test.size)))"
   ]
  },
  {
   "cell_type": "markdown",
   "metadata": {},
   "source": [
    "#### (c) Reflect on the accuracy of the always-0 classifier.\n",
    "\n",
    "**Answer**: Overall, the accuracy for both the training (0.860) and testing data (0.861) are very close and quite high (relatively close to 1). Accuracy is a measure of how often the classifier is correctand in this scenario, the always-0 classifier's performance is quite good and this is mostly due to luck; Our actual training and testing data consists of a higher proportion of 0s than 1s which explains the accuracy calculated of the always-0 classifier's.\n",
    "\n",
    "However if we split up the data, the negative data accuracy is 155/155 = 1 (TNR) while the positive data accuracy is 0/25 = 0 (TPR); The always-0 classifier is fully in favor of true negative over true positive data. So, if our data has a way higher proportion of true negatives, the always-0 classifier is something we can possibly use. Otherwise, it is not a wise choice."
   ]
  },
  {
   "cell_type": "markdown",
   "metadata": {},
   "source": [
    "#### (d) Analyze the various costs of using the always-0 classifier.\n",
    "\n",
    "**Answer**: The number of True Positives will always be 0 and the number of False Negatives will always be maximum, always-0 classifier will classify people that have cancer as negative. \n",
    "\n",
    "Given the task of this classification experiment, the always-0 classifier is not a wise choice due to the severe cost it will bring; People with cancer will not be able to do biopsies and be not be diagnosed earlier and this will lead to a lost of time that could have been used to do treatment and have a higher chance of being cured. So, these people will end up spending much more money later on once their cancer grows and becomes harder to treat."
   ]
  },
  {
   "cell_type": "markdown",
   "metadata": {},
   "source": [
    "### 4: Basic Perceptron Models\n",
    "\n",
    "#### (a) Create a basic `Perceptron` classifier\n",
    "\n",
    "Fit a perceptron to the training data.  Print out accuracy on this data, as well as on testing data.  Print out a confusion matrix on the testing data."
   ]
  },
  {
   "cell_type": "code",
   "execution_count": 423,
   "metadata": {},
   "outputs": [
    {
     "name": "stdout",
     "output_type": "stream",
     "text": [
      "acc on TRAIN: 0.402\n",
      "acc on TEST : 0.494\n",
      "\n",
      "\n",
      "Predicted   0   1\n",
      "True             \n",
      "0          64  91\n",
      "1           0  25\n"
     ]
    }
   ],
   "source": [
    "scaler = sklearn.preprocessing.MinMaxScaler()\n",
    "scaler.fit(x_train)\n",
    "scaled_xTrain = scaler.transform(x_train)\n",
    "scaled_xTest = scaler.transform(x_test)\n",
    "p = sklearn.linear_model.Perceptron()\n",
    "p.fit(scaled_xTrain, y_train)\n",
    "pred_yTest = p.predict(scaled_xTest)\n",
    "\n",
    "print(\"acc on TRAIN: %.3f\" % p.score(scaled_xTrain, y_train))\n",
    "print(\"acc on TEST : %.3f\" % p.score(scaled_xTest, y_test))\n",
    "print(\"\\n\")\n",
    "print(calc_confusion_matrix_for_threshold(y_test, pred_yTest))"
   ]
  },
  {
   "cell_type": "markdown",
   "metadata": {},
   "source": [
    "#### (b) Compare the `Perceptron` to the always-0 classifier.\n",
    "\n",
    "**Answer**: Compared to the always-0 classifier, the perceptron model has a much lower (about half times lower) accuracy on both the training and test data. However, based on the confusion matrix, this model was able to classify all the true 1s as 1s such that the true positive rate is 1.0, which is much more effective than the always-0 classifer with a 0 TPR. This model also has a lower true negative rate as it was not able to classify the true 0s as 0s and actually classified more false positives. \n",
    "\n",
    "Overall, even though this model had a lower overall accuracy than the always-0 classifier and performed worse in classifying true negatives, it was able to performed better in classifying true positives. A cost of having a lower true negative rate would mean people that do not have cancer will waste money and time on unnecessary medical purchases, undergoing painful biopsies that could have been avoided; Whereas the benefits of a higher true positive rate would mean people that do have cancer can get biopsies and earlier treatments. "
   ]
  },
  {
   "cell_type": "markdown",
   "metadata": {},
   "source": [
    "#### (c) Generate a series of regularized perceptron models\n",
    "Each model will use a different `alpha` value, multiplying that by the L2 penalty.  You will record and plot the accuracy of each model on both training and test data."
   ]
  },
  {
   "cell_type": "code",
   "execution_count": 424,
   "metadata": {},
   "outputs": [],
   "source": [
    "train_accuracy_list = list()\n",
    "test_accuracy_list = list()\n",
    "alphas = np.logspace(-5, 5, base=10, num=100)\n",
    "\n",
    "for a in alphas:\n",
    "    model = sklearn.linear_model.Perceptron(penalty='l2', alpha = a)\n",
    "    model.fit(scaled_xTrain, y_train)\n",
    "    train_accuracy_list.append(model.score(scaled_xTrain, y_train))\n",
    "    test_accuracy_list.append(model.score(scaled_xTest, y_test))"
   ]
  },
  {
   "cell_type": "markdown",
   "metadata": {},
   "source": [
    "##### Plot accuracy on train/test data across the different alpha values."
   ]
  },
  {
   "cell_type": "code",
   "execution_count": 425,
   "metadata": {},
   "outputs": [
    {
     "data": {
      "image/png": "[encoded data removed]",
      "text/plain": [
       "<Figure size 576x396 with 1 Axes>"
      ]
     },
     "metadata": {},
     "output_type": "display_data"
    }
   ],
   "source": [
    "# TODO make plot\n",
    "plt.xlabel('log_10(alpha)');\n",
    "plt.ylabel('Accuracy');\n",
    "\n",
    "plt.xscale('log')\n",
    "plt.plot(alphas, train_accuracy_list, '.r-', label = 'Training Accuracy')\n",
    "plt.plot(alphas, test_accuracy_list, '.b-', label = 'Testing Accuracy')\n",
    "plt.title('Regularized Perceptron Models')\n",
    "plt.legend()\n",
    "plt.show()\n",
    "# TODO add legend, titles, etc.\n",
    "# plt.legend(...);"
   ]
  },
  {
   "cell_type": "markdown",
   "metadata": {},
   "source": [
    "#### (d) Discuss what the plot is showing you.\n",
    "\n",
    "**Answer**: The performance plot shows that when alpha is less than zero, the accuracy trends of the training and testing line fluctuates irregularly, going from small fluctuations to sudden sharp and steep drops from 0.85 to 0.3 in one of the models. Back in the prior assignment of hw2, the ridge regression model performed best in avoiding overfitting when regularization strength is greater than 1 but not too high. However in this model when alpha is close to and greater than 1, the performance showed a consistent accuracy on both testing and training data of about 8.6. This may be becuase since the basic perceptron model's performance is poor, it indicates the need of a higher alpha value to create weight adjustments for the model. Overall, the performance plot shows better and more consistent performance on higher alpha values. "
   ]
  },
  {
   "cell_type": "markdown",
   "metadata": {},
   "source": [
    "### 5: Decision functions and probabilistic predictions\n",
    "\n",
    "#### (a) Create two new sets of predictions\n",
    "\n",
    "Fit `Perceptron` and `CalibratedClassifierCV` models to the data.  Use their predictions to generate ROC curves. "
   ]
  },
  {
   "cell_type": "code",
   "execution_count": 426,
   "metadata": {},
   "outputs": [],
   "source": [
    "# TODO: fit a Perceptron and generate its decision_function() over the test data.\n",
    "p = sklearn.linear_model.Perceptron()\n",
    "p.fit(scaled_xTrain, y_train)\n",
    "conf_P = p.decision_function(scaled_xTest)\n",
    "\n",
    "# TODO: Build a CalibratedClassifierCV, using a Perceptron as its base_estimator, \n",
    "#       and generate its probabilistic predictions over the test data.\n",
    "cali = sklearn.calibration.CalibratedClassifierCV(base_estimator = p, method = 'isotonic')\n",
    "cali.fit(scaled_xTrain, y_train)\n",
    "conf_C = cali.predict_proba(scaled_xTest)"
   ]
  },
  {
   "cell_type": "code",
   "execution_count": 427,
   "metadata": {},
   "outputs": [
    {
     "data": {
      "image/png": "[encoded data removed]",
      "text/plain": [
       "<Figure size 576x396 with 1 Axes>"
      ]
     },
     "metadata": {},
     "output_type": "display_data"
    }
   ],
   "source": [
    "fprP, tprP, thrP = sklearn.metrics.roc_curve(y_test, conf_P)\n",
    "fprC, tprC, thrC = sklearn.metrics.roc_curve(y_test, conf_C[:,1])\n",
    "\n",
    "plt.ylim([0, 1]);\n",
    "plt.xlabel(\"False Postive rate (FPR)\");\n",
    "plt.ylabel(\"True Postive rate (TPR)\");\n",
    "plt.plot(fprP, tprP, '.r-', label = 'Perceptron Model')\n",
    "plt.plot(fprC, tprC, '.b-', label = 'CCCV Model')\n",
    "plt.title('ROC Curves')\n",
    "plt.legend()\n",
    "plt.show()"
   ]
  },
  {
   "cell_type": "code",
   "execution_count": 428,
   "metadata": {},
   "outputs": [
    {
     "name": "stdout",
     "output_type": "stream",
     "text": [
      "AUC on TEST for Perceptron: 0.884\n",
      "AUC on TEST for probabilistic model: 0.886\n"
     ]
    }
   ],
   "source": [
    "print(\"AUC on TEST for Perceptron: %.3f\" % sklearn.metrics.roc_auc_score(y_test, conf_P))\n",
    "print(\"AUC on TEST for probabilistic model: %.3f\" % sklearn.metrics.roc_auc_score(y_test, conf_C[:,1]))"
   ]
  },
  {
   "cell_type": "markdown",
   "metadata": {},
   "source": [
    "#### (b) Discuss the results above\n",
    "\n",
    "**Answer**: At first glance, both the model curves seemed to be similar in shape and are above the 'coin-flip' classifier (50% sensitivity and specificity); However, the AUC on TEST for Probabilistic Model (0.886) is greater than that of Perceptron (0.884). This means the Probabilistic Model curve gets a higher true positive rate earlier (fewer false positives) than the Perceptron curve. A Perfect model would have an AUC of 1.0 as it is able to differentiate between the a patient with cancer vs without with 100 % sensitivity and 100 % specificity; So, the Probabilistic Model would be preferred due to its higher AUC value. \n",
    "\n",
    "\n",
    " "
   ]
  },
  {
   "cell_type": "markdown",
   "metadata": {},
   "source": [
    "#### (c) Compute model metrics for different probabilistic thresholds\n",
    "\n",
    "Complete the function that takes in a set of correct outputs, a matching set of probabilities generated by a classifier, and a threshold at which to set the positive decision probability, and returns a set of metrics if we use that threshold."
   ]
  },
  {
   "cell_type": "code",
   "execution_count": 429,
   "metadata": {},
   "outputs": [],
   "source": [
    "def calc_perf_metrics_for_threshold(ytrue_N, yproba1_N, thresh=0.5):\n",
    "    ''' Compute performance metrics for a given probabilistic classifier and threshold\n",
    "    Args\n",
    "    ----\n",
    "    ytrue_N : 1D array of floats\n",
    "        Each entry represents the binary value (0 or 1) of 'true' label of one example\n",
    "        One entry per example in current dataset\n",
    "    yproba1_N : 1D array of floats\n",
    "        Each entry represents a probability (between 0 and 1) that correct label is positive (1)\n",
    "        One entry per example in current dataset\n",
    "        Needs to be same size as ytrue_N\n",
    "    thresh : float\n",
    "        Scalar threshold for converting probabilities into hard decisions\n",
    "        Calls an example \"positive\" if yproba1 >= thresh\n",
    "        Default value reflects a majority-classification approach (class is the one that gets\n",
    "        highest probability)\n",
    "\n",
    "    Returns\n",
    "    -------\n",
    "    acc : accuracy of predictions\n",
    "    tpr : true positive rate of predictions\n",
    "    tnr : true negative rate of predictions\n",
    "    ppv : positive predictive value of predictions\n",
    "    npv : negative predictive value of predictions\n",
    "    '''\n",
    "    acc = 0\n",
    "    TP = 0\n",
    "    TN = 0\n",
    "    FP = 0\n",
    "    FN = 0\n",
    "    pred = []\n",
    "\n",
    "    for i in yproba1_N:\n",
    "        if i >= thresh:\n",
    "            pred.append(1)\n",
    "        else:\n",
    "            pred.append(0)\n",
    "    \n",
    "    TP, TN, FP, FN = calc_TP_TN_FP_FN(ytrue_N, pred)\n",
    "    \n",
    "    acc = (TP+TN)/(TP+TN+FP+FN)\n",
    "    tpr = TP/(TP+FN)\n",
    "    tnr = TN/(TN+FP)\n",
    "    if (TP == 0 and FP == 0):\n",
    "        ppv = 0\n",
    "    else:\n",
    "        ppv = TP/(TP+FP)\n",
    "        \n",
    "    if (TN == 0 and FN == 0):\n",
    "        npv = 0\n",
    "    else:\n",
    "        npv = TN/(TN+FN)\n",
    "    \n",
    "    return acc, tpr, tnr, ppv, npv\n",
    "\n",
    "# You can use this function later to make printing results easier; don't change it.\n",
    "def print_perf_metrics_for_threshold(ytrue_N, yproba1_N, thresh=0.5):\n",
    "    ''' Pretty print perf. metrics for a given probabilistic classifier and threshold\n",
    "    '''\n",
    "    acc, tpr, tnr, ppv, npv = calc_perf_metrics_for_threshold(ytrue_N, yproba1_N, thresh)\n",
    "    \n",
    "    ## Pretty print the results\n",
    "    print(\"%.3f ACC\" % acc)\n",
    "    print(\"%.3f TPR\" % tpr)\n",
    "    print(\"%.3f TNR\" % tnr)\n",
    "    print(\"%.3f PPV\" % ppv)\n",
    "    print(\"%.3f NPV\" % npv)"
   ]
  },
  {
   "cell_type": "markdown",
   "metadata": {},
   "source": [
    "#### (d) Compare the probabilistic classifier across multiple decision thresholds\n",
    "\n",
    "Try a range of thresholds for classifying data into the positive class (1).  For each threshold, compute the true postive rate (TPR) and positive predictive value (PPV).  Record the best value of each metric, along with the threshold that achieves it, and the *other* metric at that threshold."
   ]
  },
  {
   "cell_type": "code",
   "execution_count": 430,
   "metadata": {},
   "outputs": [],
   "source": [
    "# TODO: test different thresholds to compute these values\n",
    "thresholds = np.linspace(0, 1.001, 51)\n",
    "\n",
    "currTPR = 0\n",
    "currPPV = 0\n",
    "currT = 0\n",
    "\n",
    "for t in thresholds:\n",
    "    acc, tpr, tnr, ppv, npv = calc_perf_metrics_for_threshold(y_test, conf_C[:,1], t)\n",
    "    if tpr >= currTPR:\n",
    "        if tpr == currTPR:\n",
    "            if ppv > currPPV:\n",
    "                currTPR = tpr\n",
    "                currPPV = ppv\n",
    "                currT = t\n",
    "        elif tpr > currTPR:\n",
    "            currTPR = tpr\n",
    "            currPPV = ppv\n",
    "            currT = t\n",
    "            \n",
    "best_TPR = currTPR\n",
    "best_PPV_for_best_TPR = currPPV\n",
    "best_TPR_threshold = currT\n",
    "\n",
    "currTPR = 0\n",
    "currPPV = 0\n",
    "currT = 0\n",
    "for t in thresholds:\n",
    "    acc, tpr, tnr, ppv, npv = calc_perf_metrics_for_threshold(y_test, conf_C[:,1], t)\n",
    "    if ppv >= currPPV:\n",
    "        if ppv == currPPV:\n",
    "            if tpr > currTPR:\n",
    "                currPPV = ppv\n",
    "                currTPR = tpr\n",
    "                currT = t\n",
    "        elif ppv > currPPV:\n",
    "            currPPV = ppv\n",
    "            currTPR = tpr\n",
    "            currT = t\n",
    "\n",
    "best_PPV = currPPV\n",
    "best_TPR_for_best_PPV = currTPR\n",
    "best_PPV_threshold = currT"
   ]
  },
  {
   "cell_type": "code",
   "execution_count": 431,
   "metadata": {},
   "outputs": [
    {
     "name": "stdout",
     "output_type": "stream",
     "text": [
      "TPR threshold: 0.0601 => TPR: 1.0000; PPV: 0.2778\n",
      "PPV threshold: 0.6206 => PPV: 1.0000; TPR: 0.2000\n"
     ]
    }
   ],
   "source": [
    "print(\"TPR threshold: %.4f => TPR: %.4f; PPV: %.4f\" % (best_TPR_threshold, best_TPR, best_PPV_for_best_TPR))\n",
    "print(\"PPV threshold: %.4f => PPV: %.4f; TPR: %.4f\" % (best_PPV_threshold, best_PPV, best_TPR_for_best_PPV))"
   ]
  },
  {
   "cell_type": "markdown",
   "metadata": {},
   "source": [
    "#### (e) Exploring diffrerent thresholds\n",
    "\n",
    "#### (i) Using default 0.5 threshold. \n",
    "\n",
    "Generate confusion matrix and metrics for probabilistic classifier, using threshold 0.5."
   ]
  },
  {
   "cell_type": "code",
   "execution_count": 432,
   "metadata": {},
   "outputs": [
    {
     "name": "stdout",
     "output_type": "stream",
     "text": [
      "ON THE TEST SET:\n",
      "Chosen best threshold = 0.5000\n",
      "\n",
      "Predicted    0   1\n",
      "True              \n",
      "0          150   5\n",
      "1           15  10\n",
      "\n",
      "0.889 ACC\n",
      "0.400 TPR\n",
      "0.968 TNR\n",
      "0.667 PPV\n",
      "0.909 NPV\n"
     ]
    }
   ],
   "source": [
    "best_thr = 0.5\n",
    "print(\"ON THE TEST SET:\")\n",
    "print(\"Chosen best threshold = %.4f\" % best_thr)\n",
    "print(\"\")\n",
    "print(calc_confusion_matrix_for_threshold(y_test, conf_C[:,1], best_thr))\n",
    "print(\"\")\n",
    "print_perf_metrics_for_threshold(y_test, conf_C[:,1], best_thr)"
   ]
  },
  {
   "cell_type": "markdown",
   "metadata": {},
   "source": [
    "#### (ii) Using threshold with highest TPR. \n",
    "\n",
    "Generate confusion matrix and metrics for probabilistic classifier, using threshold that maximizes TPR."
   ]
  },
  {
   "cell_type": "code",
   "execution_count": 433,
   "metadata": {},
   "outputs": [
    {
     "name": "stdout",
     "output_type": "stream",
     "text": [
      "ON THE TEST SET:\n",
      "Chosen best threshold = 0.0601\n",
      "\n",
      "Predicted   0   1\n",
      "True             \n",
      "0          90  65\n",
      "1           0  25\n",
      "\n",
      "0.639 ACC\n",
      "1.000 TPR\n",
      "0.581 TNR\n",
      "0.278 PPV\n",
      "1.000 NPV\n"
     ]
    }
   ],
   "source": [
    "best_thr = best_TPR_threshold\n",
    "print(\"ON THE TEST SET:\")\n",
    "print(\"Chosen best threshold = %.4f\" % best_thr)\n",
    "print(\"\")\n",
    "print(calc_confusion_matrix_for_threshold(y_test, conf_C[:,1], best_thr))\n",
    "print(\"\")\n",
    "print_perf_metrics_for_threshold(y_test, conf_C[:,1], best_thr)"
   ]
  },
  {
   "cell_type": "markdown",
   "metadata": {},
   "source": [
    "#### (iii) Using threshold with highest PPV. \n",
    "\n",
    "Generate confusion matrix and metrics for probabilistic classifier, using threshold that maximizes PPV."
   ]
  },
  {
   "cell_type": "code",
   "execution_count": 434,
   "metadata": {},
   "outputs": [
    {
     "name": "stdout",
     "output_type": "stream",
     "text": [
      "ON THE TEST SET:\n",
      "Chosen best threshold = 0.6206\n",
      "\n",
      "Predicted    0  1\n",
      "True             \n",
      "0          155  0\n",
      "1           20  5\n",
      "\n",
      "0.889 ACC\n",
      "0.200 TPR\n",
      "1.000 TNR\n",
      "1.000 PPV\n",
      "0.886 NPV\n"
     ]
    }
   ],
   "source": [
    "best_thr = best_PPV_threshold\n",
    "print(\"ON THE TEST SET:\")\n",
    "print(\"Chosen best threshold = %.4f\" % best_thr)\n",
    "print(\"\")\n",
    "print(calc_confusion_matrix_for_threshold(y_test, conf_C[:,1], best_thr))\n",
    "print(\"\")\n",
    "print_perf_metrics_for_threshold(y_test, conf_C[:,1], best_thr)"
   ]
  },
  {
   "cell_type": "markdown",
   "metadata": {},
   "source": [
    "#### (iv) Compare the confusion matrices from (a)–(c) to analyze the different thresholds.\n",
    "\n",
    "**Answer**: \n",
    "Using the default threshold: (Same accuracy as the threshold for best PPV)\n",
    "The TPR is pretty low which means over 50% of patients that do have cancer will be classified to not undergo biopsies which means people with cancer will not know that they have one until a long time after. For patients without cancer, the TNR shows 96.8% will avoid biopsies but remaining 3.2% will undergo unecessary biopsies. Even though the accuracy is pretty high, the negative data shows a better performance over the positive one.\n",
    "\n",
    "Using the threshold for best TPR: (both the TPR and NPV are 1.0 and has the Lowest NPV and Accuracy)\n",
    "The overall accuracy is just slightly above 0.5 which doesn't indicate a really strong performance. However, all the patients with cancer will be classified to undergo biopsies which is very good as they get earlier diagnosis. For those that do not have cancer,  the TNR shows 58.1% will avoid biopsies but the remaining 41.9% will undergo unecessary biopsies; This threshold is effective in classifying the true patients with cancers to get biopsies but not for patients without cancer, as the proportion of them that will need to undergo biopsies is relatively high.\n",
    "\n",
    "Using the threshold for best PPV: (both the PPV and TNR are 1.0 and has the lowest TPR)\n",
    "The overall accuracy is just like the default threshold, though if we analyze further it does a better job in classifying people without cancer avoid biopsies and does a worse job in classifying people with cancer to get biopsies. The TNR is 1.0, meaning everyone with no cancer gets to avoid biopsies which means more time and money saved. Howver, the TPR showed only 20% of patients with cancer will be classified to undergo biopsies while the remaining 80% will not; This is not good as higher propotritions of patients with cancer will not know they have one, so time that could've been spent on medical needs was wasted. \n",
    "\n",
    "Overall, it depends on the purpose of the model to chooce which threshold is best. The accuracy does help in giving the overall idea of model perfomance but we would need to look at the confusion matrix and metrix to analyze what we prioritize. If we prioritize avoiding unnecessary biopsies, using the threshold for best PPV is the best choice. On the otherhand if we prioritize getting early biopsies and treatments, using the threshold for best TPR is the best choice. "
   ]
  },
  {
   "cell_type": "code",
   "execution_count": null,
   "metadata": {},
   "outputs": [],
   "source": []
  }
 ],
 "metadata": {
  "kernelspec": {
   "display_name": "Python 3",
   "language": "python",
   "name": "python3"
  },
  "language_info": {
   "codemirror_mode": {
    "name": "ipython",
    "version": 3
   },
   "file_extension": ".py",
   "mimetype": "text/x-python",
   "name": "python",
   "nbconvert_exporter": "python",
   "pygments_lexer": "ipython3",
   "version": "3.8.8"
  }
 },
 "nbformat": 4,
 "nbformat_minor": 2
}
